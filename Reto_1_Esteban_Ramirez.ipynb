{
  "nbformat": 4,
  "nbformat_minor": 0,
  "metadata": {
    "colab": {
      "provenance": [],
      "authorship_tag": "ABX9TyMSn404VSZH2Fvt4NUe52Ah",
      "include_colab_link": true
    },
    "kernelspec": {
      "name": "python3",
      "display_name": "Python 3"
    },
    "language_info": {
      "name": "python"
    }
  },
  "cells": [
    {
      "cell_type": "markdown",
      "metadata": {
        "id": "view-in-github",
        "colab_type": "text"
      },
      "source": [
        "<a href=\"https://colab.research.google.com/github/estebanramirezcantillo/Esteban-Ramirez---clase-AdN/blob/main/Reto_1_Esteban_Ramirez.ipynb\" target=\"_parent\"><img src=\"https://colab.research.google.com/assets/colab-badge.svg\" alt=\"Open In Colab\"/></a>"
      ]
    },
    {
      "cell_type": "code",
      "execution_count": null,
      "metadata": {
        "id": "_jezQrzu_VPP"
      },
      "outputs": [],
      "source": []
    },
    {
      "cell_type": "markdown",
      "source": [
        "###RETO1 Esteban Ramirez"
      ],
      "metadata": {
        "id": "G4fFjF7qAn_c"
      }
    },
    {
      "cell_type": "code",
      "source": [
        "import numpy as np\n",
        "import pandas as pd"
      ],
      "metadata": {
        "id": "ZD9EBL04AtSG"
      },
      "execution_count": null,
      "outputs": []
    },
    {
      "cell_type": "code",
      "source": [
        "#Cargar datos y filtar\n",
        "nxl=\"/content/1. BD2_CarCrash_Int.xlsx\"\n",
        "df=pd.read_excel(nxl)\n",
        "df = df[df['County'] == 'SAN FRANCISCO']"
      ],
      "metadata": {
        "id": "1RmPEUR2Azp0"
      },
      "execution_count": null,
      "outputs": []
    },
    {
      "cell_type": "markdown",
      "source": [
        "Introduccion\n",
        "En este análisis, trabajamos con una base de datos de accidentes automovilísticos en San Francisco, con el objetivo de predecir si un accidente ocurrió en una autopista o no. Para esto, exploramos las variables relevantes y sus características. A continuación, se describe cada una de las variables utilizadas en el modelo:\n",
        "\n",
        "\n",
        "```\n",
        "print(\"\\n🔍 Descripción de las Variables:\")\n",
        "print(df_variables.to_string(index=False))\n",
        "```\n",
        "\n"
      ],
      "metadata": {
        "id": "FiVqwqt2Q7Iv"
      }
    },
    {
      "cell_type": "code",
      "source": [
        "print(\"\\n🔍 Descripción de las Variables:\")\n",
        "print(df_variables.to_string(index=False))"
      ],
      "metadata": {
        "colab": {
          "base_uri": "https://localhost:8080/"
        },
        "id": "6wRKUuraSNYZ",
        "outputId": "8fd20e9f-f5e6-4a65-bbb0-33501813d65e"
      },
      "execution_count": null,
      "outputs": [
        {
          "output_type": "stream",
          "name": "stdout",
          "text": [
            "\n",
            "🔍 Descripción de las Variables:\n",
            "    Variable       Tipo de Dato                                                                       Descripción\n",
            "     Weekday    Numérica Entera                Día de la semana en que ocurrió el accidente (1=Lunes, 7=Domingo).\n",
            "    Severity Categórica Binaria                          Nivel de severidad del accidente (0 = Menor, 1 = Mayor).\n",
            "     ViolCat Categórica Ordinal                                      Clasificación del impacto según su gravedad.\n",
            "ClearWeather Categórica Binaria Indica si el clima estaba despejado en el momento del accidente (0 = No, 1 = Sí).\n",
            "       Month    Numérica Entera                   Mes en el que ocurrió el accidente (1 = Enero, 12 = Diciembre).\n",
            "   CrashType Categórica Nominal           Tipo de accidente (convertido a valor numérico según orden alfabético).\n",
            "    Daylight  Numérica Continua                               Cantidad de luz diurna en el momento del accidente.\n",
            "     Highway Categórica Binaria                 Indica si el accidente ocurrió en una autopista (0 = No, 1 = Sí).\n"
          ]
        }
      ]
    },
    {
      "cell_type": "code",
      "source": [],
      "metadata": {
        "id": "p13aUmunSAqf"
      },
      "execution_count": null,
      "outputs": []
    },
    {
      "cell_type": "markdown",
      "source": [
        "###1.¿Cuál es el número de datos total de la base de datos?\n",
        "2081 datos"
      ],
      "metadata": {
        "id": "1gI_IOEpDvKU"
      }
    },
    {
      "cell_type": "code",
      "source": [
        "variables = ['Weekday', 'Severity', 'ViolCat', 'ClearWeather', 'Month', 'CrashType', 'Daylight', 'Highway']\n",
        "df = df[variables]\n",
        "\n",
        "# Convertir 'CrashType' en valores numéricos según orden alfabético\n",
        "df['CrashType'] = df['CrashType'].astype(str)\n",
        "df['CrashType'] = df['CrashType'].rank(method='dense').astype(int)\n"
      ],
      "metadata": {
        "id": "HN1oLeqKD7lU"
      },
      "execution_count": null,
      "outputs": []
    },
    {
      "cell_type": "markdown",
      "source": [
        "### 2. ¿Cuál es el porcentaje de los datos que hacen parte de cada una de las categorías de clasificación?"
      ],
      "metadata": {
        "id": "Vo-E4cJzGWb2"
      }
    },
    {
      "cell_type": "code",
      "source": [
        "\n",
        "# Seleccionar solo las variables categóricas\n",
        "categorical_vars = ['Weekday', 'Severity', 'ViolCat', 'ClearWeather', 'Month', 'CrashType', 'Daylight', 'Highway']\n",
        "CV = df[categorical_vars]  # Variables de entrada + salida\n",
        "\n",
        "# Calcular y mostrar los porcentajes de cada categoría dentro de cada variable\n",
        "for col in CV.columns:\n",
        "    print(f\"Porcentajes para {col}:\")\n",
        "    print(CV[col].value_counts(normalize=True) * 100)\n",
        "    print(\"-\" * 50)  # Separador visual\n"
      ],
      "metadata": {
        "colab": {
          "base_uri": "https://localhost:8080/"
        },
        "id": "pWyXcOiBGXRb",
        "outputId": "5d85037d-fe61-49a8-c808-d651f07d9b36"
      },
      "execution_count": null,
      "outputs": [
        {
          "output_type": "stream",
          "name": "stdout",
          "text": [
            "Porcentajes para Weekday:\n",
            "Weekday\n",
            "3    15.569438\n",
            "1    14.896684\n",
            "4    14.608361\n",
            "5    14.560308\n",
            "2    14.512254\n",
            "6    13.407016\n",
            "7    12.445939\n",
            "Name: proportion, dtype: float64\n",
            "--------------------------------------------------\n",
            "Porcentajes para Severity:\n",
            "Severity\n",
            "0    93.70495\n",
            "1     6.29505\n",
            "Name: proportion, dtype: float64\n",
            "--------------------------------------------------\n",
            "Porcentajes para ViolCat:\n",
            "ViolCat\n",
            "3     32.051898\n",
            "8     10.860163\n",
            "12    10.091302\n",
            "10     9.706872\n",
            "9      9.274387\n",
            "11     8.505526\n",
            "7      6.583373\n",
            "4      5.766458\n",
            "1      4.853436\n",
            "6      2.306583\n",
            "Name: proportion, dtype: float64\n",
            "--------------------------------------------------\n",
            "Porcentajes para ClearWeather:\n",
            "ClearWeather\n",
            "1    84.718885\n",
            "0    15.281115\n",
            "Name: proportion, dtype: float64\n",
            "--------------------------------------------------\n",
            "Porcentajes para Month:\n",
            "Month\n",
            "4     15.185007\n",
            "1     11.869294\n",
            "5     11.821240\n",
            "3     11.340702\n",
            "2     11.340702\n",
            "7     10.475733\n",
            "6     10.427679\n",
            "8      6.150889\n",
            "9      3.459875\n",
            "10     2.931283\n",
            "12     2.642960\n",
            "11     2.354637\n",
            "Name: proportion, dtype: float64\n",
            "--------------------------------------------------\n",
            "Porcentajes para CrashType:\n",
            "CrashType\n",
            "3    31.379145\n",
            "4    23.209995\n",
            "7    19.221528\n",
            "2    12.878424\n",
            "5     6.871696\n",
            "1     4.228736\n",
            "6     2.210476\n",
            "Name: proportion, dtype: float64\n",
            "--------------------------------------------------\n",
            "Porcentajes para Daylight:\n",
            "Daylight\n",
            "1    65.257088\n",
            "0    34.742912\n",
            "Name: proportion, dtype: float64\n",
            "--------------------------------------------------\n",
            "Porcentajes para Highway:\n",
            "Highway\n",
            "0    75.925036\n",
            "1    24.074964\n",
            "Name: proportion, dtype: float64\n",
            "--------------------------------------------------\n"
          ]
        }
      ]
    },
    {
      "cell_type": "markdown",
      "source": [
        "### 3.1 Determinar los intervalos en los cual se encuentra la variación del WEEKDAY para cada una de las categorías de clasificación"
      ],
      "metadata": {
        "id": "lWqO0FMaIj20"
      }
    },
    {
      "cell_type": "code",
      "source": [
        "\n",
        "# Definir las variables de clasificación\n",
        "classification_vars = ['Severity', 'ViolCat', 'ClearWeather', 'Month', 'CrashType', 'Daylight', 'Highway']\n",
        "\n",
        "# Calcular los intervalos de variación de 'Weekday' para cada variable de clasificación\n",
        "for var in classification_vars:\n",
        "    print(f\"Intervalos de variación de Weekday para {var}:\")\n",
        "    print(df.groupby(var)['Weekday'].describe()[['min', '25%', '50%', '75%', 'max']])\n",
        "    print(\"-\" * 50)  # Separador visual\n"
      ],
      "metadata": {
        "colab": {
          "base_uri": "https://localhost:8080/"
        },
        "id": "Cgl2D-y0HNGV",
        "outputId": "8c51b71e-fb48-487d-e52d-3463ea11c42a"
      },
      "execution_count": null,
      "outputs": [
        {
          "output_type": "stream",
          "name": "stdout",
          "text": [
            "Intervalos de variación de Weekday para Severity:\n",
            "          min  25%  50%  75%  max\n",
            "Severity                         \n",
            "0         1.0  2.0  4.0  6.0  7.0\n",
            "1         1.0  2.0  4.0  6.0  7.0\n",
            "--------------------------------------------------\n",
            "Intervalos de variación de Weekday para ViolCat:\n",
            "         min   25%  50%   75%  max\n",
            "ViolCat                           \n",
            "1        1.0  3.00  6.0  7.00  7.0\n",
            "3        1.0  2.00  4.0  6.00  7.0\n",
            "4        1.0  2.00  3.0  5.00  7.0\n",
            "6        1.0  2.00  3.0  4.25  7.0\n",
            "7        1.0  2.00  4.0  5.00  7.0\n",
            "8        1.0  2.00  4.0  5.00  7.0\n",
            "9        1.0  2.00  4.0  6.00  7.0\n",
            "10       1.0  2.00  4.0  5.00  7.0\n",
            "11       1.0  3.00  4.0  6.00  7.0\n",
            "12       1.0  2.25  4.0  6.00  7.0\n",
            "--------------------------------------------------\n",
            "Intervalos de variación de Weekday para ClearWeather:\n",
            "              min  25%  50%  75%  max\n",
            "ClearWeather                         \n",
            "0             1.0  2.0  4.0  6.0  7.0\n",
            "1             1.0  2.0  4.0  6.0  7.0\n",
            "--------------------------------------------------\n",
            "Intervalos de variación de Weekday para Month:\n",
            "       min  25%  50%  75%  max\n",
            "Month                         \n",
            "1      1.0  2.0  4.0  5.0  7.0\n",
            "2      1.0  2.0  4.0  6.0  7.0\n",
            "3      1.0  2.0  4.0  6.0  7.0\n",
            "4      1.0  2.0  4.0  5.0  7.0\n",
            "5      1.0  3.0  4.0  5.0  7.0\n",
            "6      1.0  2.0  4.0  6.0  7.0\n",
            "7      1.0  2.0  3.0  6.0  7.0\n",
            "8      1.0  2.0  4.0  5.0  7.0\n",
            "9      1.0  2.0  3.0  5.0  7.0\n",
            "10     1.0  2.0  3.0  5.0  7.0\n",
            "11     1.0  2.0  4.0  6.0  7.0\n",
            "12     1.0  2.0  3.0  5.0  7.0\n",
            "--------------------------------------------------\n",
            "Intervalos de variación de Weekday para CrashType:\n",
            "           min   25%  50%  75%  max\n",
            "CrashType                          \n",
            "1          1.0  2.00  4.0  6.0  7.0\n",
            "2          1.0  2.00  4.0  5.0  7.0\n",
            "3          1.0  2.00  4.0  6.0  7.0\n",
            "4          1.0  2.00  4.0  6.0  7.0\n",
            "5          1.0  3.00  5.0  6.0  7.0\n",
            "6          1.0  2.25  4.0  6.0  7.0\n",
            "7          1.0  2.00  4.0  5.0  7.0\n",
            "--------------------------------------------------\n",
            "Intervalos de variación de Weekday para Daylight:\n",
            "          min  25%  50%  75%  max\n",
            "Daylight                         \n",
            "0         1.0  2.0  4.0  6.0  7.0\n",
            "1         1.0  2.0  4.0  5.0  7.0\n",
            "--------------------------------------------------\n",
            "Intervalos de variación de Weekday para Highway:\n",
            "         min  25%  50%  75%  max\n",
            "Highway                         \n",
            "0        1.0  2.0  4.0  6.0  7.0\n",
            "1        1.0  2.0  4.0  6.0  7.0\n",
            "--------------------------------------------------\n"
          ]
        }
      ]
    },
    {
      "cell_type": "markdown",
      "source": [
        "### 3.2 Determinar los intervalos en los cual se encuentra la variación del ViolCat para cada una de las categorías de clasificación"
      ],
      "metadata": {
        "id": "flQMgdOHItsV"
      }
    },
    {
      "cell_type": "code",
      "source": [
        "# Definir las variables de clasificación\n",
        "classification_vars2 = ['Severity', 'Weekday', 'ClearWeather', 'Month', 'CrashType', 'Daylight', 'Highway']\n",
        "\n",
        "# Calcular los intervalos de variación de 'ViolCat' para cada variable de clasificación\n",
        "for var in classification_vars2:\n",
        "    print(f\"Intervalos de variación de ViolCat para {var}:\")\n",
        "    print(df.groupby(var)['ViolCat'].describe()[['min', '25%', '50%', '75%', 'max']])\n",
        "    print(\"-\" * 50)  # Separador visual"
      ],
      "metadata": {
        "colab": {
          "base_uri": "https://localhost:8080/"
        },
        "id": "a2wWlhRZIzZn",
        "outputId": "466a0386-1851-4dcc-d243-036eb27e5d65"
      },
      "execution_count": null,
      "outputs": [
        {
          "output_type": "stream",
          "name": "stdout",
          "text": [
            "Intervalos de variación de ViolCat para Severity:\n",
            "          min  25%  50%   75%   max\n",
            "Severity                           \n",
            "0         1.0  3.0  7.0  10.0  12.0\n",
            "1         1.0  3.0  9.0  11.0  12.0\n",
            "--------------------------------------------------\n",
            "Intervalos de variación de ViolCat para Weekday:\n",
            "         min  25%  50%   75%   max\n",
            "Weekday                           \n",
            "1        1.0  3.0  7.0   9.0  12.0\n",
            "2        1.0  3.0  7.0  10.0  12.0\n",
            "3        1.0  3.0  8.0  10.0  12.0\n",
            "4        1.0  3.0  8.0  10.0  12.0\n",
            "5        1.0  3.0  7.0  10.0  12.0\n",
            "6        1.0  3.0  7.0  10.0  12.0\n",
            "7        1.0  3.0  4.0   9.5  12.0\n",
            "--------------------------------------------------\n",
            "Intervalos de variación de ViolCat para ClearWeather:\n",
            "              min  25%  50%   75%   max\n",
            "ClearWeather                           \n",
            "0             1.0  3.0  6.0   9.0  12.0\n",
            "1             1.0  3.0  7.0  10.0  12.0\n",
            "--------------------------------------------------\n",
            "Intervalos de variación de ViolCat para Month:\n",
            "       min  25%  50%    75%   max\n",
            "Month                            \n",
            "1      1.0  3.0  8.0  10.00  12.0\n",
            "2      1.0  3.0  9.0  10.00  12.0\n",
            "3      1.0  3.0  8.0  10.00  12.0\n",
            "4      1.0  3.0  8.0  10.00  12.0\n",
            "5      1.0  3.0  8.0  10.00  12.0\n",
            "6      1.0  3.0  7.0  10.00  12.0\n",
            "7      1.0  3.0  8.0  10.00  12.0\n",
            "8      1.0  3.0  6.0   9.25  12.0\n",
            "9      1.0  3.0  3.0   7.00  12.0\n",
            "10     1.0  3.0  3.0   7.00  12.0\n",
            "11     1.0  3.0  3.0   4.00  11.0\n",
            "12     1.0  3.0  3.0   7.00  12.0\n",
            "--------------------------------------------------\n",
            "Intervalos de variación de ViolCat para CrashType:\n",
            "           min   25%   50%   75%   max\n",
            "CrashType                             \n",
            "1          1.0   3.0   9.0   9.0  12.0\n",
            "2          1.0   6.0   7.0   8.0  12.0\n",
            "3          1.0   3.0   3.0   3.0  12.0\n",
            "4          1.0   8.0   9.0  12.0  12.0\n",
            "5          1.0   1.0   3.0   8.0  12.0\n",
            "6          1.0   3.0   3.0   7.0  12.0\n",
            "7          1.0  10.0  10.0  11.0  12.0\n",
            "--------------------------------------------------\n",
            "Intervalos de variación de ViolCat para Daylight:\n",
            "          min  25%  50%   75%   max\n",
            "Daylight                           \n",
            "0         1.0  3.0  7.0  10.0  12.0\n",
            "1         1.0  3.0  7.0  10.0  12.0\n",
            "--------------------------------------------------\n",
            "Intervalos de variación de ViolCat para Highway:\n",
            "         min  25%  50%   75%   max\n",
            "Highway                           \n",
            "0        1.0  3.0  8.0  10.0  12.0\n",
            "1        1.0  3.0  3.0   7.0  11.0\n",
            "--------------------------------------------------\n"
          ]
        }
      ]
    },
    {
      "cell_type": "markdown",
      "source": [
        "3.3 Determinar los intervalos en los cual se encuentra la variación del CrashType para cada una de las categorías de clasificación"
      ],
      "metadata": {
        "id": "FjAmJkS8JvR5"
      }
    },
    {
      "cell_type": "code",
      "source": [
        "# Definir las variables de clasificación\n",
        "classification_vars2 = ['Severity', 'Weekday', 'ClearWeather', 'Month', 'ViolCat', 'Daylight', 'Highway']\n",
        "\n",
        "# Calcular los intervalos de variación de 'CrashType' para cada variable de clasificación\n",
        "for var in classification_vars2:\n",
        "    print(f\"Intervalos de variación de CrashType para {var}:\")\n",
        "    print(df.groupby(var)['CrashType'].describe()[['min', '25%', '50%', '75%', 'max']])\n",
        "    print(\"-\" * 50)  # Separador visual"
      ],
      "metadata": {
        "colab": {
          "base_uri": "https://localhost:8080/"
        },
        "id": "OMK2xYKKJ2Vw",
        "outputId": "5ef2d7fb-40a2-4053-95b0-996b68c6fda5"
      },
      "execution_count": null,
      "outputs": [
        {
          "output_type": "stream",
          "name": "stdout",
          "text": [
            "Intervalos de variación de CrashType para Severity:\n",
            "          min  25%  50%  75%  max\n",
            "Severity                         \n",
            "0         1.0  3.0  4.0  5.0  7.0\n",
            "1         1.0  3.0  5.0  7.0  7.0\n",
            "--------------------------------------------------\n",
            "Intervalos de variación de CrashType para Weekday:\n",
            "         min  25%  50%  75%  max\n",
            "Weekday                         \n",
            "1        1.0  3.0  3.0  4.0  7.0\n",
            "2        1.0  3.0  3.0  5.0  7.0\n",
            "3        1.0  3.0  4.0  5.0  7.0\n",
            "4        1.0  3.0  4.0  6.0  7.0\n",
            "5        1.0  3.0  3.0  5.0  7.0\n",
            "6        1.0  3.0  4.0  5.0  7.0\n",
            "7        1.0  3.0  4.0  5.0  7.0\n",
            "--------------------------------------------------\n",
            "Intervalos de variación de CrashType para ClearWeather:\n",
            "              min  25%  50%  75%  max\n",
            "ClearWeather                         \n",
            "0             1.0  3.0  3.0  5.0  7.0\n",
            "1             1.0  3.0  4.0  5.0  7.0\n",
            "--------------------------------------------------\n",
            "Intervalos de variación de CrashType para Month:\n",
            "       min  25%  50%   75%  max\n",
            "Month                          \n",
            "1      1.0  3.0  4.0  6.00  7.0\n",
            "2      1.0  3.0  4.0  7.00  7.0\n",
            "3      1.0  3.0  4.0  5.00  7.0\n",
            "4      1.0  3.0  4.0  6.25  7.0\n",
            "5      1.0  3.0  4.0  5.00  7.0\n",
            "6      1.0  3.0  4.0  4.00  7.0\n",
            "7      1.0  3.0  4.0  4.75  7.0\n",
            "8      1.0  3.0  3.0  4.00  7.0\n",
            "9      1.0  3.0  3.0  3.00  7.0\n",
            "10     2.0  3.0  3.0  3.00  7.0\n",
            "11     1.0  3.0  3.0  3.00  7.0\n",
            "12     2.0  3.0  3.0  4.50  7.0\n",
            "--------------------------------------------------\n",
            "Intervalos de variación de CrashType para ViolCat:\n",
            "         min  25%  50%  75%  max\n",
            "ViolCat                         \n",
            "1        1.0  3.0  3.0  5.0  7.0\n",
            "3        1.0  3.0  3.0  3.0  7.0\n",
            "4        2.0  3.0  3.0  3.0  3.0\n",
            "6        1.0  2.0  2.0  4.0  7.0\n",
            "7        2.0  2.0  2.0  3.0  7.0\n",
            "8        1.0  2.0  4.0  4.0  7.0\n",
            "9        1.0  4.0  4.0  4.0  7.0\n",
            "10       1.0  7.0  7.0  7.0  7.0\n",
            "11       1.0  7.0  7.0  7.0  7.0\n",
            "12       1.0  4.0  4.0  4.0  7.0\n",
            "--------------------------------------------------\n",
            "Intervalos de variación de CrashType para Daylight:\n",
            "          min  25%  50%  75%  max\n",
            "Daylight                         \n",
            "0         1.0  3.0  4.0  5.0  7.0\n",
            "1         1.0  3.0  4.0  5.0  7.0\n",
            "--------------------------------------------------\n",
            "Intervalos de variación de CrashType para Highway:\n",
            "         min  25%  50%  75%  max\n",
            "Highway                         \n",
            "0        1.0  3.0  4.0  7.0  7.0\n",
            "1        1.0  3.0  3.0  3.0  7.0\n",
            "--------------------------------------------------\n"
          ]
        }
      ]
    },
    {
      "cell_type": "markdown",
      "source": [
        "##Modelo"
      ],
      "metadata": {
        "id": "JzISxV0zKKZB"
      }
    },
    {
      "cell_type": "code",
      "source": [
        "# Definir variables independientes (X) y la variable dependiente (Y)\n",
        "XD = df[['Weekday', 'ViolCat', 'Daylight', 'Month', 'CrashType', 'ClearWeather']]\n",
        "YD = df[['Highway']]"
      ],
      "metadata": {
        "id": "Kcc8eB-ILLxC"
      },
      "execution_count": null,
      "outputs": []
    },
    {
      "cell_type": "code",
      "source": [
        "from sklearn.naive_bayes import GaussianNB\n",
        "from re import U\n",
        "mnb=GaussianNB()\n",
        "mnb.fit(XD,YD)\n",
        "std=mnb.var_ #esto es varianza\n",
        "std=np.sqrt(std)\n",
        "columns = ['Weekday', 'ViolCat', 'Daylight', 'Month', 'CrashType', 'ClearWeather']\n",
        "index = ['No Autopista (0)', 'Autopista (1)']\n",
        "df_std = pd.DataFrame(std, index=index, columns=columns)\n",
        "\n",
        "# Imprimir tabla con formato\n",
        "print(\"\\nDesviación estándar por variable y clase de 'Highway':\")\n",
        "print(df_std.to_string(float_format=\"%.4f\"))"
      ],
      "metadata": {
        "colab": {
          "base_uri": "https://localhost:8080/"
        },
        "id": "EO43ZA1YL7UT",
        "outputId": "52ba4902-9583-4ed9-e206-3444d437cd05"
      },
      "execution_count": null,
      "outputs": [
        {
          "output_type": "stream",
          "name": "stdout",
          "text": [
            "\n",
            "Desviación estándar por variable y clase de 'Highway':\n",
            "                  Weekday  ViolCat  Daylight  Month  CrashType  ClearWeather\n",
            "No Autopista (0)   1.9506   3.5214    0.4728 2.3434     1.8737        0.3442\n",
            "Autopista (1)      2.0160   2.1620    0.4852 3.4416     1.0577        0.4012\n"
          ]
        }
      ]
    },
    {
      "cell_type": "markdown",
      "source": [
        "## Matriz de Confusion"
      ],
      "metadata": {
        "id": "856ry1RQNL2N"
      }
    },
    {
      "cell_type": "code",
      "source": [
        "ydp=mnb.predict(XD)\n",
        "from sklearn.metrics import confusion_matrix\n",
        "cm=confusion_matrix(YD,ydp)\n",
        "# Crear un DataFrame para mostrar la matriz con etiquetas\n",
        "cm_df = pd.DataFrame(cm, index=[\"No Autopista (0)\", \"Autopista (1)\"],\n",
        "                     columns=[\"Predicho No Autopista (0)\", \"Predicho Autopista (1)\"])\n",
        "\n",
        "# Imprimir la matriz con formato claro\n",
        "print(\"\\nMatriz de Confusión:\")\n",
        "print(cm_df)"
      ],
      "metadata": {
        "colab": {
          "base_uri": "https://localhost:8080/"
        },
        "id": "1QFacIW6NK64",
        "outputId": "695f6c82-2fd1-42b6-f12b-128a3d5920cf"
      },
      "execution_count": null,
      "outputs": [
        {
          "output_type": "stream",
          "name": "stdout",
          "text": [
            "\n",
            "Matriz de Confusión:\n",
            "                  Predicho No Autopista (0)  Predicho Autopista (1)\n",
            "No Autopista (0)                       1365                     215\n",
            "Autopista (1)                           224                     277\n"
          ]
        }
      ]
    },
    {
      "cell_type": "code",
      "source": [
        "# Extraer valores de la matriz de confusión\n",
        "VN = cm[0, 0]  # Verdaderos negativos\n",
        "FP = cm[0, 1]  # Falsos positivos\n",
        "FN = cm[1, 0]  # Falsos negativos\n",
        "VP = cm[1, 1]  # Verdaderos positivos\n",
        "\n",
        "# Calcular métricas\n",
        "exactitud = (VN + VP) / (VN + VP + FN + FP)\n",
        "tasa_error = (FN + FP) / (VN + VP + FN + FP)\n",
        "sensibilidad = VP / (VP + FN)  # Recall / Sensitivity\n",
        "especificidad = VN / (VN + FP)\n",
        "precision_positivos = VP / (VP + FP)\n",
        "precision_negativos = VN / (VN + FN)\n",
        "vn_quartiles = np.percentile(VN, [0, 25, 50, 75, 100])\n",
        "vp_quartiles = np.percentile(VP, [0, 25, 50, 75, 100])"
      ],
      "metadata": {
        "id": "PIFZwqAKNuxh"
      },
      "execution_count": null,
      "outputs": []
    },
    {
      "cell_type": "markdown",
      "source": [
        "# Resultados Finales"
      ],
      "metadata": {
        "id": "HWKztvdbQXjk"
      }
    },
    {
      "cell_type": "code",
      "source": [
        "\n",
        "print(\"\\n🔍 Evaluación del Modelo Naive Bayes:\")\n",
        "print(f\"✅ Exactitud: {exactitud:.4f}\")\n",
        "print(f\"❌ Tasa de Error: {tasa_error:.4f}\")\n",
        "print(f\"📈 Sensibilidad (Recall): {sensibilidad:.4f}\")\n",
        "print(f\"📉 Especificidad: {especificidad:.4f}\")\n",
        "print(f\"🎯 Precisión Positivos: {precision_positivos:.4f}\")\n",
        "print(f\"🎯 Precisión Negativos: {precision_negativos:.4f}\")"
      ],
      "metadata": {
        "colab": {
          "base_uri": "https://localhost:8080/"
        },
        "id": "vfY7F4n9QZrt",
        "outputId": "0b408b2a-50ef-4f17-a5f6-36a633307a7f"
      },
      "execution_count": null,
      "outputs": [
        {
          "output_type": "stream",
          "name": "stdout",
          "text": [
            "\n",
            "🔍 Evaluación del Modelo Naive Bayes:\n",
            "✅ Exactitud: 0.7890\n",
            "❌ Tasa de Error: 0.2110\n",
            "📈 Sensibilidad (Recall): 0.5529\n",
            "📉 Especificidad: 0.8639\n",
            "🎯 Precisión Positivos: 0.5630\n",
            "🎯 Precisión Negativos: 0.8590\n"
          ]
        }
      ]
    },
    {
      "cell_type": "markdown",
      "source": [
        "#Conclusion\n",
        "El análisis de accidentes automovilísticos en San Francisco utilizando el modelo Naive Bayes permitió evaluar la capacidad de predicción de si un accidente ocurrió en una autopista o no. A partir de las variables seleccionadas, como el día de la semana, nivel de impacto, luz diurna, mes, tipo de choque y clima despejado, se logró construir un modelo de clasificación con un desempeño notable. El modelo alcanzó una exactitud del 78.90%, lo que indica que clasificó correctamente la mayoría de los accidentes. No obstante, la tasa de error fue del 21.10%, reflejando que un porcentaje significativo de las clasificaciones fueron incorrectas. En términos de sensibilidad, el modelo identificó correctamente el 55.29% de los accidentes ocurridos en autopistas, mientras que la especificidad fue del 86.39%, lo que sugiere que el modelo es más preciso en la identificación de accidentes fuera de autopistas que dentro de ellas. La precisión para los positivos fue del 56.30%, lo que significa que de los accidentes clasificados como ocurridos en autopistas, 56.30% realmente lo fueron. Por otro lado, la precisión para los negativos alcanzó 85.90%, indicando que de los accidentes clasificados como no ocurridos en autopistas, 85.90% realmente no lo fueron. En general, los resultados muestran que el modelo Naive Bayes es eficiente para la clasificación de accidentes, con un buen desempeño en la identificación de accidentes fuera de autopistas, pero con margen de mejora en la identificación de accidentes en autopistas. Para optimizar la sensibilidad del modelo, se podrían explorar otras técnicas de preprocesamiento de datos, ajustar los parámetros del modelo o probar algoritmos más avanzados como árboles de decisión o redes neuronales."
      ],
      "metadata": {
        "id": "G56wlqsPSleP"
      }
    }
  ]
}