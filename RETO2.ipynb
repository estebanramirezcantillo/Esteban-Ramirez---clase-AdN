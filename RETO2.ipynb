{
  "nbformat": 4,
  "nbformat_minor": 0,
  "metadata": {
    "colab": {
      "provenance": [],
      "authorship_tag": "ABX9TyONEDYj90svcxRRhXPWE1jP",
      "include_colab_link": true
    },
    "kernelspec": {
      "name": "python3",
      "display_name": "Python 3"
    },
    "language_info": {
      "name": "python"
    }
  },
  "cells": [
    {
      "cell_type": "markdown",
      "metadata": {
        "id": "view-in-github",
        "colab_type": "text"
      },
      "source": [
        "<a href=\"https://colab.research.google.com/github/estebanramirezcantillo/Esteban-Ramirez---clase-AdN/blob/main/RETO2.ipynb\" target=\"_parent\"><img src=\"https://colab.research.google.com/assets/colab-badge.svg\" alt=\"Open In Colab\"/></a>"
      ]
    },
    {
      "cell_type": "markdown",
      "source": [
        "##Reto 2 - Esteban Ramirez"
      ],
      "metadata": {
        "id": "1YWSFghKJBWo"
      }
    },
    {
      "cell_type": "markdown",
      "source": [
        "#1 datos"
      ],
      "metadata": {
        "id": "BzxxD9zgJdIV"
      }
    },
    {
      "cell_type": "code",
      "source": [
        "data1 = {\n",
        "    \"Variable\": [\"Sales_Rep\", \"Business\", \"Age\", \"Female\", \"Years\", \"College\", \"Certificates\", \"Feedback\", \"Salary\", \"NPS\"],\n",
        "    \"Descripción\": [\n",
        "        \"Identificador único de cada representante de ventas.\",\n",
        "        \"Tipo de negocio en el que trabaja el representante (Hardware o Software).\",\n",
        "        \"Edad del representante de ventas.\",\n",
        "        \"Indicador de género (1 si es mujer, 0 si es hombre).\",\n",
        "        \"Años de experiencia en la empresa.\",\n",
        "        \"Indica si el representante tiene estudios universitarios (Yes/No).\",\n",
        "        \"Número de certificaciones obtenidas.\",\n",
        "        \"Puntuación de retroalimentación de desempeño.\",\n",
        "        \"Salario anual del representante en dólares.\",\n",
        "        \"Net Promoter Score, mide la lealtad del cliente en una escala de 1 a 10.\"\n",
        "    ]\n",
        "}\n",
        "\n",
        "df_descripcion = pd.DataFrame(data1)\n",
        "pd.set_option('display.max_colwidth', None)\n",
        "print(df_descripcion.to_string(index=False))\n"
      ],
      "metadata": {
        "colab": {
          "base_uri": "https://localhost:8080/"
        },
        "id": "RKgPh5kPLR8G",
        "outputId": "a2dc18cf-3abe-464a-89cc-3bfb4732f1d5"
      },
      "execution_count": null,
      "outputs": [
        {
          "output_type": "stream",
          "name": "stdout",
          "text": [
            "    Variable                                                               Descripción\n",
            "   Sales_Rep                      Identificador único de cada representante de ventas.\n",
            "    Business Tipo de negocio en el que trabaja el representante (Hardware o Software).\n",
            "         Age                                         Edad del representante de ventas.\n",
            "      Female                      Indicador de género (1 si es mujer, 0 si es hombre).\n",
            "       Years                                        Años de experiencia en la empresa.\n",
            "     College        Indica si el representante tiene estudios universitarios (Yes/No).\n",
            "Certificates                                      Número de certificaciones obtenidas.\n",
            "    Feedback                             Puntuación de retroalimentación de desempeño.\n",
            "      Salary                               Salario anual del representante en dólares.\n",
            "         NPS  Net Promoter Score, mide la lealtad del cliente en una escala de 1 a 10.\n"
          ]
        }
      ]
    },
    {
      "cell_type": "markdown",
      "source": [
        "###cargar librerias y datos"
      ],
      "metadata": {
        "id": "rg-1k-fUJfxf"
      }
    },
    {
      "cell_type": "code",
      "source": [
        "import numpy as np\n",
        "import pandas as pd\n",
        "from sklearn.tree import DecisionTreeClassifier\n",
        "from sklearn.metrics import confusion_matrix\n",
        "nxl=('/2. TechSalesReport_Int_L (1).xlsx')"
      ],
      "metadata": {
        "id": "XpUEoHL3JpyW"
      },
      "execution_count": null,
      "outputs": []
    },
    {
      "cell_type": "code",
      "source": [
        "XDB=pd.read_excel(nxl,sheet_name=0)\n",
        "XDB['College']= XDB['College'].replace({'Yes':1,'No':0})\n",
        "\n",
        "XDB['Business']= XDB['Business'].replace({'Hardware':0,'Software':1})\n",
        "# Variables a Utilizar\n",
        "XD=XDB[['Business','Age','Female','Years','Certificates','Feedback','Salary','NPS']]\n",
        "yd=XDB[['College']]"
      ],
      "metadata": {
        "colab": {
          "base_uri": "https://localhost:8080/"
        },
        "id": "SS0vNE61KafD",
        "outputId": "9f2a020a-84f6-4c1a-d4d7-236f950df3d1"
      },
      "execution_count": null,
      "outputs": [
        {
          "output_type": "stream",
          "name": "stderr",
          "text": [
            "<ipython-input-45-de12479939e4>:2: FutureWarning: Downcasting behavior in `replace` is deprecated and will be removed in a future version. To retain the old behavior, explicitly call `result.infer_objects(copy=False)`. To opt-in to the future behavior, set `pd.set_option('future.no_silent_downcasting', True)`\n",
            "  XDB['College']= XDB['College'].replace({'Yes':1,'No':0})\n",
            "<ipython-input-45-de12479939e4>:4: FutureWarning: Downcasting behavior in `replace` is deprecated and will be removed in a future version. To retain the old behavior, explicitly call `result.infer_objects(copy=False)`. To opt-in to the future behavior, set `pd.set_option('future.no_silent_downcasting', True)`\n",
            "  XDB['Business']= XDB['Business'].replace({'Hardware':0,'Software':1})\n"
          ]
        }
      ]
    },
    {
      "cell_type": "markdown",
      "source": [
        "##2. Modelo - Arbol de Decision"
      ],
      "metadata": {
        "id": "lyOuOAwaMNLX"
      }
    },
    {
      "cell_type": "code",
      "source": [
        "mar=DecisionTreeClassifier(criterion='gini',max_depth=4)\n",
        "mar.fit(XD,yd)\n",
        "# librerias arbol\n",
        "from sklearn.tree import export_graphviz\n",
        "from pydotplus import graph_from_dot_data\n",
        "vs=['Business','Age','Female','Years','Certificates','Feedback','Salary','NPS']\n",
        "dot_data=export_graphviz(mar,feature_names=vs)\n",
        "graph=graph_from_dot_data(dot_data)\n",
        "graph.write_png('Reto2Arbol.png')\n"
      ],
      "metadata": {
        "colab": {
          "base_uri": "https://localhost:8080/"
        },
        "id": "_yBOjHMSMRzi",
        "outputId": "c9dfb41b-37e4-4c19-c2b3-51c8f9558113"
      },
      "execution_count": null,
      "outputs": [
        {
          "output_type": "execute_result",
          "data": {
            "text/plain": [
              "True"
            ]
          },
          "metadata": {},
          "execution_count": 46
        }
      ]
    },
    {
      "cell_type": "markdown",
      "source": [
        "##3. Caracterización de la base de datos"
      ],
      "metadata": {
        "id": "eHfWjrvaOy2C"
      }
    },
    {
      "cell_type": "code",
      "source": [
        "\n",
        "Total_Personas = len(XDB)\n",
        "Total_Inscritos = VP + FN\n",
        "Total_NoInscritos = VN + FP\n",
        "\n",
        "print(\"\\n===== 📊 Resumen de Datos =====\")\n",
        "print(f\"👥 Total de personas analizadas: {Total_Personas}\")\n",
        "print(f\"✅ Total de personas inscritas: {Total_Inscritos}\")\n",
        "print(f\"❌ Total de personas no inscritas: {Total_NoInscritos}\")\n"
      ],
      "metadata": {
        "colab": {
          "base_uri": "https://localhost:8080/"
        },
        "id": "Ro8rMerkOsPx",
        "outputId": "1081e189-4034-471e-8cfb-7ec5511aa4ad"
      },
      "execution_count": null,
      "outputs": [
        {
          "output_type": "stream",
          "name": "stdout",
          "text": [
            "\n",
            "===== 📊 Resumen de Datos =====\n",
            "👥 Total de personas analizadas: 21990\n",
            "✅ Total de personas inscritas: 17520\n",
            "❌ Total de personas no inscritas: 4470\n"
          ]
        }
      ]
    },
    {
      "cell_type": "markdown",
      "source": [
        "## 4. Nodo Puro\n",
        "No hay nodo puro."
      ],
      "metadata": {
        "id": "BTettaa5QqPV"
      }
    },
    {
      "cell_type": "markdown",
      "source": [
        "##.5 Pronostico"
      ],
      "metadata": {
        "id": "52FCZBYERkfe"
      }
    },
    {
      "cell_type": "code",
      "source": [
        "# Cargar los datos (sheet 1)\n",
        "XDB_pred = pd.read_excel(nxl, sheet_name=1)\n",
        "XDB_pred['Business'] = pd.factorize(XDB_pred['Business'])[0]\n",
        "XDB_pred['Business']= XDB_pred['Business'].replace({'Hardware':0,'Software':1})\n",
        "XD_pred = XDB_pred[['Business', 'Age', 'Female', 'Years', 'Certificates', 'Feedback', 'Salary', 'NPS']]\n",
        "# Realizar las predicciones\n",
        "yd_pred = mar.predict(XD_pred)\n",
        "print(\"Las predicciones son:\\n\", yd_pred)\n",
        "\n",
        "# Crear el informe con las predicciones\n",
        "XDB_pred['College_Predicted'] = yd_pred\n",
        "print(XDB_pred.head(10))\n",
        "\n"
      ],
      "metadata": {
        "colab": {
          "base_uri": "https://localhost:8080/"
        },
        "id": "hd0GgJrrRGlE",
        "outputId": "127dcd83-8ba6-4109-8db4-b7b243a01bfc"
      },
      "execution_count": null,
      "outputs": [
        {
          "output_type": "stream",
          "name": "stdout",
          "text": [
            "Las predicciones son:\n",
            " [1 1 1 1 1 1 1 1 1 1 1 1 1 1 1 1]\n",
            "   Sales_Rep  Business  Age  Female  Years  ... Certificates  Feedback  Salary  NPS  College_Predicted\n",
            "0          1         0   63       0      2  ...            5      3.49  133000    8                  1\n",
            "1          2         1   38       1      2  ...            4      3.33   80400    6                  1\n",
            "2          3         1   47       0      1  ...            2      2.12   57000    7                  1\n",
            "3          4         1   25       0      1  ...            2      2.89   79000    7                  1\n",
            "4          5         0   49       0     10  ...            4      2.52  127000    6                  1\n",
            "5          6         1   48       0      1  ...            1      3.35   62000    6                  1\n",
            "6          7         1   25       1      1  ...            6      1.16   74000    7                  1\n",
            "7          8         0   39       0      1  ...            2      2.12  112000    5                  1\n",
            "8          9         1   29       0      1  ...            5      2.74   78000    8                  1\n",
            "9         10         1   45       1      3  ...            3      2.90   74000    7                  1\n",
            "\n",
            "[10 rows x 11 columns]\n"
          ]
        }
      ]
    },
    {
      "cell_type": "markdown",
      "source": [
        "##6.Desempeño modelo"
      ],
      "metadata": {
        "id": "dxxrF3VpSiZ_"
      }
    },
    {
      "cell_type": "code",
      "source": [
        "ydp=mar.predict(XD)\n",
        "cm = confusion_matrix(yd.values.ravel(), ydp)\n",
        "VN=cm[0,0];FP=cm[0,1];FN=cm[1,0];VP=cm[1,1]\n",
        "ex = (VN + VP) / (VN + VP + FN + FP)  # Exactitud\n",
        "TE = (FN + FP) / (VN + VP + FN + FP)  # Tasa de error\n",
        "Sen = VP / (VP + FN) if (VP + FN) != 0 else 0  # Sensibilidad (Recall)\n",
        "Esp = VN / (VN + FP) if (VN + FP) != 0 else 0  # Especificidad\n",
        "preP = VP / (VP + FP) if (VP + FP) != 0 else 0  # Precisión de positivos\n",
        "preN = VN / (VN + FN) if (VN + FN) != 0 else 0  # Precisión de negativos\n",
        "\n",
        "# Imprimir resultados en un formato más claro\n",
        "print(\"\\n===== Evaluación del Modelo =====\")\n",
        "print(\"🔹 Matriz de Confusión:\")\n",
        "print(cm)\n",
        "\n",
        "print(\"\\n🔹 Métricas de Desempeño:\")\n",
        "print(f\"✅ Exactitud: {ex:.4f}\")\n",
        "print(f\"❌ Tasa de Error: {TE:.4f}\")\n",
        "print(f\"📊 Sensibilidad (Recall): {Sen:.4f}\")\n",
        "print(f\"⚖️  Especificidad: {Esp:.4f}\")\n",
        "print(f\"🎯 Precisión Positivos: {preP:.4f}\")"
      ],
      "metadata": {
        "colab": {
          "base_uri": "https://localhost:8080/"
        },
        "id": "YTiADRdjSiv2",
        "outputId": "c3cfc1d6-9bd8-49d9-b16c-053fe83525c9"
      },
      "execution_count": null,
      "outputs": [
        {
          "output_type": "stream",
          "name": "stdout",
          "text": [
            "\n",
            "===== Evaluación del Modelo =====\n",
            "🔹 Matriz de Confusión:\n",
            "[[  114  4356]\n",
            " [   69 17451]]\n",
            "\n",
            "🔹 Métricas de Desempeño:\n",
            "✅ Exactitud: 0.7988\n",
            "❌ Tasa de Error: 0.2012\n",
            "📊 Sensibilidad (Recall): 0.9961\n",
            "⚖️  Especificidad: 0.0255\n",
            "🎯 Precisión Positivos: 0.8002\n"
          ]
        }
      ]
    },
    {
      "cell_type": "markdown",
      "source": [
        "## Informe en excel"
      ],
      "metadata": {
        "id": "vq0R34nkTCiT"
      }
    },
    {
      "cell_type": "code",
      "source": [
        "# Crear el informe con la preaprobacion\n",
        "dfp=pd.DataFrame(np.column_stack((XD_pred,yd_pred)))\n",
        "dfp.columns=[['Business','Age','Female','Years','Certificates','Feedback','Salary','NPS','College_Predicted']]\n",
        "dfp.head(15)\n",
        "dfp.to_excel('InformePRED.xlsx')\n",
        "print(dfp.head(15))"
      ],
      "metadata": {
        "colab": {
          "base_uri": "https://localhost:8080/"
        },
        "id": "x8V3FeQFSvqd",
        "outputId": "ff2d8e1a-b75b-4156-e859-57ea17e7d73b"
      },
      "execution_count": null,
      "outputs": [
        {
          "output_type": "stream",
          "name": "stdout",
          "text": [
            "   Business   Age Female Years Certificates Feedback    Salary   NPS College_Predicted\n",
            "0       0.0  63.0    0.0   2.0          5.0     3.49  133000.0   8.0               1.0\n",
            "1       1.0  38.0    1.0   2.0          4.0     3.33   80400.0   6.0               1.0\n",
            "2       1.0  47.0    0.0   1.0          2.0     2.12   57000.0   7.0               1.0\n",
            "3       1.0  25.0    0.0   1.0          2.0     2.89   79000.0   7.0               1.0\n",
            "4       0.0  49.0    0.0  10.0          4.0     2.52  127000.0   6.0               1.0\n",
            "5       1.0  48.0    0.0   1.0          1.0     3.35   62000.0   6.0               1.0\n",
            "6       1.0  25.0    1.0   1.0          6.0     1.16   74000.0   7.0               1.0\n",
            "7       0.0  39.0    0.0   1.0          2.0     2.12  112000.0   5.0               1.0\n",
            "8       1.0  29.0    0.0   1.0          5.0     2.74   78000.0   8.0               1.0\n",
            "9       1.0  45.0    1.0   3.0          3.0     2.90   74000.0   7.0               1.0\n",
            "10      0.0  35.0    0.0   6.0          1.0     3.79   90000.0   8.0               1.0\n",
            "11      0.0  30.0    0.0   4.0          2.0     2.50   69000.0   8.0               1.0\n",
            "12      1.0  28.0    0.0   1.0          6.0     1.50   63000.0   6.0               1.0\n",
            "13      0.0  41.0    0.0   1.0          4.0     1.35   51000.0   4.0               1.0\n",
            "14      1.0  51.0    1.0   2.0          3.0     2.95   80800.0  10.0               1.0\n"
          ]
        }
      ]
    },
    {
      "cell_type": "markdown",
      "source": [
        "## Conclusiones\n",
        "El modelo de árbol de decisión ha predicho que todas las personas en la muestra serán admitidas en el college (College_Predicted = 1.0). En general, el modelo sugiere que casi cualquier persona en la muestra cumple con los requisitos para ser admitida, lo que puede indicar un sesgo en los datos de entrenamiento o en la selección de variables.  El modelo de árbol de decisión muestra un buen desempeño en la clasificación general, con una exactitud del 79.88%, lo que indica que predice correctamente en la mayoría de los casos. Su alta sensibilidad del 99.61% sugiere que identifica casi todos los admitidos correctamente, minimizando los falsos negativos. Sin embargo, su especificidad es extremadamente baja (2.55%), lo que implica que tiene dificultades para reconocer a quienes no deberían ser admitidos, generando una gran cantidad de falsos positivos. Esto sugiere que el modelo tiende a sobreestimar la admisión, lo que podría afectar la confiabilidad del proceso de selección."
      ],
      "metadata": {
        "id": "AZY7txIQT_xf"
      }
    }
  ]
}